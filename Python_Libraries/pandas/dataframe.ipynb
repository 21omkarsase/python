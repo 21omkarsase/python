{
 "cells": [
  {
   "cell_type": "code",
   "execution_count": 1,
   "id": "913f7731",
   "metadata": {},
   "outputs": [],
   "source": [
    "import pandas as pd\n",
    "import numpy as np"
   ]
  },
  {
   "cell_type": "code",
   "execution_count": 2,
   "id": "c2ff3f96",
   "metadata": {},
   "outputs": [],
   "source": [
    "dict1={\n",
    "    \"name\":['omkar','sairaj','rohan'],\n",
    "    \"marks\":[23,25,25],\n",
    "    \"city\":['rampur',\"nagpur\",\"jamshedpur\"]\n",
    "}  \n",
    "#rows must be of same size"
   ]
  },
  {
   "cell_type": "markdown",
   "id": "cf1eb2c1",
   "metadata": {},
   "source": [
    "# dictionary to dataframe"
   ]
  },
  {
   "cell_type": "code",
   "execution_count": 3,
   "id": "6233316a",
   "metadata": {},
   "outputs": [
    {
     "data": {
      "text/html": [
       "<div>\n",
       "<style scoped>\n",
       "    .dataframe tbody tr th:only-of-type {\n",
       "        vertical-align: middle;\n",
       "    }\n",
       "\n",
       "    .dataframe tbody tr th {\n",
       "        vertical-align: top;\n",
       "    }\n",
       "\n",
       "    .dataframe thead th {\n",
       "        text-align: right;\n",
       "    }\n",
       "</style>\n",
       "<table border=\"1\" class=\"dataframe\">\n",
       "  <thead>\n",
       "    <tr style=\"text-align: right;\">\n",
       "      <th></th>\n",
       "      <th>name</th>\n",
       "      <th>marks</th>\n",
       "      <th>city</th>\n",
       "    </tr>\n",
       "  </thead>\n",
       "  <tbody>\n",
       "    <tr>\n",
       "      <th>0</th>\n",
       "      <td>omkar</td>\n",
       "      <td>23</td>\n",
       "      <td>rampur</td>\n",
       "    </tr>\n",
       "    <tr>\n",
       "      <th>1</th>\n",
       "      <td>sairaj</td>\n",
       "      <td>25</td>\n",
       "      <td>nagpur</td>\n",
       "    </tr>\n",
       "    <tr>\n",
       "      <th>2</th>\n",
       "      <td>rohan</td>\n",
       "      <td>25</td>\n",
       "      <td>jamshedpur</td>\n",
       "    </tr>\n",
       "  </tbody>\n",
       "</table>\n",
       "</div>"
      ],
      "text/plain": [
       "     name  marks        city\n",
       "0   omkar     23      rampur\n",
       "1  sairaj     25      nagpur\n",
       "2   rohan     25  jamshedpur"
      ]
     },
     "execution_count": 3,
     "metadata": {},
     "output_type": "execute_result"
    }
   ],
   "source": [
    "df=pd.DataFrame(dict1)  #converting to data frame\n",
    "df"
   ]
  },
  {
   "cell_type": "markdown",
   "id": "5182b49e",
   "metadata": {},
   "source": [
    "# exporting to csv"
   ]
  },
  {
   "cell_type": "code",
   "execution_count": 4,
   "id": "89a0941f",
   "metadata": {},
   "outputs": [],
   "source": [
    "df.to_csv('info.csv')"
   ]
  },
  {
   "cell_type": "code",
   "execution_count": 5,
   "id": "f12aad7b",
   "metadata": {},
   "outputs": [],
   "source": [
    "df.to_csv('info_without_indexing.csv',index=False)  #eithout indexing"
   ]
  },
  {
   "cell_type": "code",
   "execution_count": 6,
   "id": "4e3dfe4b",
   "metadata": {},
   "outputs": [
    {
     "data": {
      "text/html": [
       "<div>\n",
       "<style scoped>\n",
       "    .dataframe tbody tr th:only-of-type {\n",
       "        vertical-align: middle;\n",
       "    }\n",
       "\n",
       "    .dataframe tbody tr th {\n",
       "        vertical-align: top;\n",
       "    }\n",
       "\n",
       "    .dataframe thead th {\n",
       "        text-align: right;\n",
       "    }\n",
       "</style>\n",
       "<table border=\"1\" class=\"dataframe\">\n",
       "  <thead>\n",
       "    <tr style=\"text-align: right;\">\n",
       "      <th></th>\n",
       "      <th>name</th>\n",
       "      <th>marks</th>\n",
       "      <th>city</th>\n",
       "    </tr>\n",
       "  </thead>\n",
       "  <tbody>\n",
       "    <tr>\n",
       "      <th>0</th>\n",
       "      <td>omkar</td>\n",
       "      <td>23</td>\n",
       "      <td>rampur</td>\n",
       "    </tr>\n",
       "    <tr>\n",
       "      <th>1</th>\n",
       "      <td>sairaj</td>\n",
       "      <td>25</td>\n",
       "      <td>nagpur</td>\n",
       "    </tr>\n",
       "  </tbody>\n",
       "</table>\n",
       "</div>"
      ],
      "text/plain": [
       "     name  marks    city\n",
       "0   omkar     23  rampur\n",
       "1  sairaj     25  nagpur"
      ]
     },
     "execution_count": 6,
     "metadata": {},
     "output_type": "execute_result"
    }
   ],
   "source": [
    "df.head(2)  #first two rows"
   ]
  },
  {
   "cell_type": "code",
   "execution_count": 7,
   "id": "d2358008",
   "metadata": {},
   "outputs": [
    {
     "data": {
      "text/html": [
       "<div>\n",
       "<style scoped>\n",
       "    .dataframe tbody tr th:only-of-type {\n",
       "        vertical-align: middle;\n",
       "    }\n",
       "\n",
       "    .dataframe tbody tr th {\n",
       "        vertical-align: top;\n",
       "    }\n",
       "\n",
       "    .dataframe thead th {\n",
       "        text-align: right;\n",
       "    }\n",
       "</style>\n",
       "<table border=\"1\" class=\"dataframe\">\n",
       "  <thead>\n",
       "    <tr style=\"text-align: right;\">\n",
       "      <th></th>\n",
       "      <th>name</th>\n",
       "      <th>marks</th>\n",
       "      <th>city</th>\n",
       "    </tr>\n",
       "  </thead>\n",
       "  <tbody>\n",
       "    <tr>\n",
       "      <th>1</th>\n",
       "      <td>sairaj</td>\n",
       "      <td>25</td>\n",
       "      <td>nagpur</td>\n",
       "    </tr>\n",
       "    <tr>\n",
       "      <th>2</th>\n",
       "      <td>rohan</td>\n",
       "      <td>25</td>\n",
       "      <td>jamshedpur</td>\n",
       "    </tr>\n",
       "  </tbody>\n",
       "</table>\n",
       "</div>"
      ],
      "text/plain": [
       "     name  marks        city\n",
       "1  sairaj     25      nagpur\n",
       "2   rohan     25  jamshedpur"
      ]
     },
     "execution_count": 7,
     "metadata": {},
     "output_type": "execute_result"
    }
   ],
   "source": [
    "df.tail(2)  #last two rows"
   ]
  },
  {
   "cell_type": "code",
   "execution_count": 8,
   "id": "b4678da3",
   "metadata": {},
   "outputs": [
    {
     "data": {
      "text/html": [
       "<div>\n",
       "<style scoped>\n",
       "    .dataframe tbody tr th:only-of-type {\n",
       "        vertical-align: middle;\n",
       "    }\n",
       "\n",
       "    .dataframe tbody tr th {\n",
       "        vertical-align: top;\n",
       "    }\n",
       "\n",
       "    .dataframe thead th {\n",
       "        text-align: right;\n",
       "    }\n",
       "</style>\n",
       "<table border=\"1\" class=\"dataframe\">\n",
       "  <thead>\n",
       "    <tr style=\"text-align: right;\">\n",
       "      <th></th>\n",
       "      <th>marks</th>\n",
       "    </tr>\n",
       "  </thead>\n",
       "  <tbody>\n",
       "    <tr>\n",
       "      <th>count</th>\n",
       "      <td>3.000000</td>\n",
       "    </tr>\n",
       "    <tr>\n",
       "      <th>mean</th>\n",
       "      <td>24.333333</td>\n",
       "    </tr>\n",
       "    <tr>\n",
       "      <th>std</th>\n",
       "      <td>1.154701</td>\n",
       "    </tr>\n",
       "    <tr>\n",
       "      <th>min</th>\n",
       "      <td>23.000000</td>\n",
       "    </tr>\n",
       "    <tr>\n",
       "      <th>25%</th>\n",
       "      <td>24.000000</td>\n",
       "    </tr>\n",
       "    <tr>\n",
       "      <th>50%</th>\n",
       "      <td>25.000000</td>\n",
       "    </tr>\n",
       "    <tr>\n",
       "      <th>75%</th>\n",
       "      <td>25.000000</td>\n",
       "    </tr>\n",
       "    <tr>\n",
       "      <th>max</th>\n",
       "      <td>25.000000</td>\n",
       "    </tr>\n",
       "  </tbody>\n",
       "</table>\n",
       "</div>"
      ],
      "text/plain": [
       "           marks\n",
       "count   3.000000\n",
       "mean   24.333333\n",
       "std     1.154701\n",
       "min    23.000000\n",
       "25%    24.000000\n",
       "50%    25.000000\n",
       "75%    25.000000\n",
       "max    25.000000"
      ]
     },
     "execution_count": 8,
     "metadata": {},
     "output_type": "execute_result"
    }
   ],
   "source": [
    "df.describe()  #information"
   ]
  },
  {
   "cell_type": "markdown",
   "id": "f827dfe6",
   "metadata": {},
   "source": [
    "# reading csv file"
   ]
  },
  {
   "cell_type": "code",
   "execution_count": 9,
   "id": "f5941d61",
   "metadata": {},
   "outputs": [],
   "source": [
    "df=pd.read_csv('nba.csv')  #reading csv file"
   ]
  },
  {
   "cell_type": "code",
   "execution_count": 10,
   "id": "9a271f66",
   "metadata": {},
   "outputs": [
    {
     "data": {
      "text/html": [
       "<div>\n",
       "<style scoped>\n",
       "    .dataframe tbody tr th:only-of-type {\n",
       "        vertical-align: middle;\n",
       "    }\n",
       "\n",
       "    .dataframe tbody tr th {\n",
       "        vertical-align: top;\n",
       "    }\n",
       "\n",
       "    .dataframe thead th {\n",
       "        text-align: right;\n",
       "    }\n",
       "</style>\n",
       "<table border=\"1\" class=\"dataframe\">\n",
       "  <thead>\n",
       "    <tr style=\"text-align: right;\">\n",
       "      <th></th>\n",
       "      <th>Name</th>\n",
       "      <th>Team</th>\n",
       "      <th>Number</th>\n",
       "      <th>Position</th>\n",
       "      <th>Age</th>\n",
       "      <th>Height</th>\n",
       "      <th>Weight</th>\n",
       "      <th>College</th>\n",
       "      <th>Salary</th>\n",
       "    </tr>\n",
       "  </thead>\n",
       "  <tbody>\n",
       "    <tr>\n",
       "      <th>0</th>\n",
       "      <td>Avery Bradley</td>\n",
       "      <td>Boston Celtics</td>\n",
       "      <td>0.0</td>\n",
       "      <td>PG</td>\n",
       "      <td>25.0</td>\n",
       "      <td>6-2</td>\n",
       "      <td>180.0</td>\n",
       "      <td>Texas</td>\n",
       "      <td>7730337.0</td>\n",
       "    </tr>\n",
       "    <tr>\n",
       "      <th>1</th>\n",
       "      <td>Jae Crowder</td>\n",
       "      <td>Boston Celtics</td>\n",
       "      <td>99.0</td>\n",
       "      <td>SF</td>\n",
       "      <td>25.0</td>\n",
       "      <td>6-6</td>\n",
       "      <td>235.0</td>\n",
       "      <td>Marquette</td>\n",
       "      <td>6796117.0</td>\n",
       "    </tr>\n",
       "    <tr>\n",
       "      <th>2</th>\n",
       "      <td>John Holland</td>\n",
       "      <td>Boston Celtics</td>\n",
       "      <td>30.0</td>\n",
       "      <td>SG</td>\n",
       "      <td>27.0</td>\n",
       "      <td>6-5</td>\n",
       "      <td>205.0</td>\n",
       "      <td>Boston University</td>\n",
       "      <td>NaN</td>\n",
       "    </tr>\n",
       "    <tr>\n",
       "      <th>3</th>\n",
       "      <td>R.J. Hunter</td>\n",
       "      <td>Boston Celtics</td>\n",
       "      <td>28.0</td>\n",
       "      <td>SG</td>\n",
       "      <td>22.0</td>\n",
       "      <td>6-5</td>\n",
       "      <td>185.0</td>\n",
       "      <td>Georgia State</td>\n",
       "      <td>1148640.0</td>\n",
       "    </tr>\n",
       "    <tr>\n",
       "      <th>4</th>\n",
       "      <td>Jonas Jerebko</td>\n",
       "      <td>Boston Celtics</td>\n",
       "      <td>8.0</td>\n",
       "      <td>PF</td>\n",
       "      <td>29.0</td>\n",
       "      <td>6-10</td>\n",
       "      <td>231.0</td>\n",
       "      <td>NaN</td>\n",
       "      <td>5000000.0</td>\n",
       "    </tr>\n",
       "    <tr>\n",
       "      <th>...</th>\n",
       "      <td>...</td>\n",
       "      <td>...</td>\n",
       "      <td>...</td>\n",
       "      <td>...</td>\n",
       "      <td>...</td>\n",
       "      <td>...</td>\n",
       "      <td>...</td>\n",
       "      <td>...</td>\n",
       "      <td>...</td>\n",
       "    </tr>\n",
       "    <tr>\n",
       "      <th>453</th>\n",
       "      <td>Shelvin Mack</td>\n",
       "      <td>Utah Jazz</td>\n",
       "      <td>8.0</td>\n",
       "      <td>PG</td>\n",
       "      <td>26.0</td>\n",
       "      <td>6-3</td>\n",
       "      <td>203.0</td>\n",
       "      <td>Butler</td>\n",
       "      <td>2433333.0</td>\n",
       "    </tr>\n",
       "    <tr>\n",
       "      <th>454</th>\n",
       "      <td>Raul Neto</td>\n",
       "      <td>Utah Jazz</td>\n",
       "      <td>25.0</td>\n",
       "      <td>PG</td>\n",
       "      <td>24.0</td>\n",
       "      <td>6-1</td>\n",
       "      <td>179.0</td>\n",
       "      <td>NaN</td>\n",
       "      <td>900000.0</td>\n",
       "    </tr>\n",
       "    <tr>\n",
       "      <th>455</th>\n",
       "      <td>Tibor Pleiss</td>\n",
       "      <td>Utah Jazz</td>\n",
       "      <td>21.0</td>\n",
       "      <td>C</td>\n",
       "      <td>26.0</td>\n",
       "      <td>7-3</td>\n",
       "      <td>256.0</td>\n",
       "      <td>NaN</td>\n",
       "      <td>2900000.0</td>\n",
       "    </tr>\n",
       "    <tr>\n",
       "      <th>456</th>\n",
       "      <td>Jeff Withey</td>\n",
       "      <td>Utah Jazz</td>\n",
       "      <td>24.0</td>\n",
       "      <td>C</td>\n",
       "      <td>26.0</td>\n",
       "      <td>7-0</td>\n",
       "      <td>231.0</td>\n",
       "      <td>Kansas</td>\n",
       "      <td>947276.0</td>\n",
       "    </tr>\n",
       "    <tr>\n",
       "      <th>457</th>\n",
       "      <td>NaN</td>\n",
       "      <td>NaN</td>\n",
       "      <td>NaN</td>\n",
       "      <td>NaN</td>\n",
       "      <td>NaN</td>\n",
       "      <td>NaN</td>\n",
       "      <td>NaN</td>\n",
       "      <td>NaN</td>\n",
       "      <td>NaN</td>\n",
       "    </tr>\n",
       "  </tbody>\n",
       "</table>\n",
       "<p>458 rows × 9 columns</p>\n",
       "</div>"
      ],
      "text/plain": [
       "              Name            Team  Number Position   Age Height  Weight  \\\n",
       "0    Avery Bradley  Boston Celtics     0.0       PG  25.0    6-2   180.0   \n",
       "1      Jae Crowder  Boston Celtics    99.0       SF  25.0    6-6   235.0   \n",
       "2     John Holland  Boston Celtics    30.0       SG  27.0    6-5   205.0   \n",
       "3      R.J. Hunter  Boston Celtics    28.0       SG  22.0    6-5   185.0   \n",
       "4    Jonas Jerebko  Boston Celtics     8.0       PF  29.0   6-10   231.0   \n",
       "..             ...             ...     ...      ...   ...    ...     ...   \n",
       "453   Shelvin Mack       Utah Jazz     8.0       PG  26.0    6-3   203.0   \n",
       "454      Raul Neto       Utah Jazz    25.0       PG  24.0    6-1   179.0   \n",
       "455   Tibor Pleiss       Utah Jazz    21.0        C  26.0    7-3   256.0   \n",
       "456    Jeff Withey       Utah Jazz    24.0        C  26.0    7-0   231.0   \n",
       "457            NaN             NaN     NaN      NaN   NaN    NaN     NaN   \n",
       "\n",
       "               College     Salary  \n",
       "0                Texas  7730337.0  \n",
       "1            Marquette  6796117.0  \n",
       "2    Boston University        NaN  \n",
       "3        Georgia State  1148640.0  \n",
       "4                  NaN  5000000.0  \n",
       "..                 ...        ...  \n",
       "453             Butler  2433333.0  \n",
       "454                NaN   900000.0  \n",
       "455                NaN  2900000.0  \n",
       "456             Kansas   947276.0  \n",
       "457                NaN        NaN  \n",
       "\n",
       "[458 rows x 9 columns]"
      ]
     },
     "execution_count": 10,
     "metadata": {},
     "output_type": "execute_result"
    }
   ],
   "source": [
    "df"
   ]
  },
  {
   "cell_type": "code",
   "execution_count": 11,
   "id": "83458b74",
   "metadata": {},
   "outputs": [
    {
     "data": {
      "text/plain": [
       "0      Avery Bradley\n",
       "1        Jae Crowder\n",
       "2       John Holland\n",
       "3        R.J. Hunter\n",
       "4      Jonas Jerebko\n",
       "           ...      \n",
       "453     Shelvin Mack\n",
       "454        Raul Neto\n",
       "455     Tibor Pleiss\n",
       "456      Jeff Withey\n",
       "457              NaN\n",
       "Name: Name, Length: 458, dtype: object"
      ]
     },
     "execution_count": 11,
     "metadata": {},
     "output_type": "execute_result"
    }
   ],
   "source": [
    "df['Name']  #accessing coulumns"
   ]
  },
  {
   "cell_type": "code",
   "execution_count": 12,
   "id": "f04bb8dc",
   "metadata": {},
   "outputs": [
    {
     "data": {
      "text/plain": [
       "'Jae Crowder'"
      ]
     },
     "execution_count": 12,
     "metadata": {},
     "output_type": "execute_result"
    }
   ],
   "source": [
    "df['Name'][1]  #accessing fields"
   ]
  },
  {
   "cell_type": "code",
   "execution_count": 13,
   "id": "abf9ac24",
   "metadata": {},
   "outputs": [
    {
     "name": "stderr",
     "output_type": "stream",
     "text": [
      "C:\\Users\\omkar\\AppData\\Local\\Temp\\ipykernel_18132\\783329745.py:1: SettingWithCopyWarning: \n",
      "A value is trying to be set on a copy of a slice from a DataFrame\n",
      "\n",
      "See the caveats in the documentation: https://pandas.pydata.org/pandas-docs/stable/user_guide/indexing.html#returning-a-view-versus-a-copy\n",
      "  df['Name'][1]=\"omkar\" #changing data values(fields)\n"
     ]
    }
   ],
   "source": [
    "df['Name'][1]=\"omkar\" #changing data values(fields)"
   ]
  },
  {
   "cell_type": "code",
   "execution_count": 14,
   "id": "5c883023",
   "metadata": {
    "scrolled": true
   },
   "outputs": [
    {
     "data": {
      "text/html": [
       "<div>\n",
       "<style scoped>\n",
       "    .dataframe tbody tr th:only-of-type {\n",
       "        vertical-align: middle;\n",
       "    }\n",
       "\n",
       "    .dataframe tbody tr th {\n",
       "        vertical-align: top;\n",
       "    }\n",
       "\n",
       "    .dataframe thead th {\n",
       "        text-align: right;\n",
       "    }\n",
       "</style>\n",
       "<table border=\"1\" class=\"dataframe\">\n",
       "  <thead>\n",
       "    <tr style=\"text-align: right;\">\n",
       "      <th></th>\n",
       "      <th>c</th>\n",
       "      <th>y</th>\n",
       "      <th>z*</th>\n",
       "    </tr>\n",
       "  </thead>\n",
       "  <tbody>\n",
       "    <tr>\n",
       "      <th>first</th>\n",
       "      <td>omkar</td>\n",
       "      <td>23</td>\n",
       "      <td>rampur</td>\n",
       "    </tr>\n",
       "    <tr>\n",
       "      <th>second</th>\n",
       "      <td>sairaj</td>\n",
       "      <td>25</td>\n",
       "      <td>nagpur</td>\n",
       "    </tr>\n",
       "    <tr>\n",
       "      <th>third</th>\n",
       "      <td>rohan</td>\n",
       "      <td>25</td>\n",
       "      <td>jamshedpur</td>\n",
       "    </tr>\n",
       "  </tbody>\n",
       "</table>\n",
       "</div>"
      ],
      "text/plain": [
       "             c   y          z*\n",
       "first    omkar  23      rampur\n",
       "second  sairaj  25      nagpur\n",
       "third    rohan  25  jamshedpur"
      ]
     },
     "execution_count": 14,
     "metadata": {},
     "output_type": "execute_result"
    }
   ],
   "source": [
    "#custome indexing\n",
    "df=pd.DataFrame(dict1)\n",
    "#rows\n",
    "df.index=['first','second','third']  #for all rows\n",
    "#cols\n",
    "#changing col names(for single or multiple cols)\n",
    "df.rename(columns={'marks':'full_marks','city':'current city'},inplace=True)\n",
    "#renaming all cols\n",
    "df.columns=['_x','_y','z*_']\n",
    "df.columns.values[0]='b'  #changing cols name using 0 1 indexing\n",
    "df.columns.values[0]='c'\n",
    "#replacing specific char \n",
    "df.columns=df.columns.str.replace('_','&&&') #replacing _ with &&& for every col\n",
    "df.columns=df.columns.str.replace('&&&','') \n",
    "df"
   ]
  },
  {
   "cell_type": "markdown",
   "id": "cd6d86b9",
   "metadata": {},
   "source": [
    "\n",
    "# series and dataframe"
   ]
  },
  {
   "cell_type": "code",
   "execution_count": 15,
   "id": "c68e6c75",
   "metadata": {},
   "outputs": [],
   "source": [
    "x = pd.Series(np.random.rand(32))   "
   ]
  },
  {
   "cell_type": "code",
   "execution_count": 16,
   "id": "ef835339",
   "metadata": {},
   "outputs": [
    {
     "data": {
      "text/plain": [
       "0     0.663550\n",
       "1     0.874964\n",
       "2     0.644883\n",
       "3     0.509114\n",
       "4     0.541873\n",
       "5     0.863953\n",
       "6     0.511576\n",
       "7     0.781358\n",
       "8     0.097472\n",
       "9     0.426355\n",
       "10    0.248511\n",
       "11    0.431767\n",
       "12    0.273291\n",
       "13    0.213361\n",
       "14    0.973932\n",
       "15    0.975771\n",
       "16    0.555749\n",
       "17    0.166218\n",
       "18    0.111187\n",
       "19    0.476134\n",
       "20    0.030748\n",
       "21    0.558554\n",
       "22    0.778263\n",
       "23    0.755983\n",
       "24    0.788543\n",
       "25    0.695946\n",
       "26    0.637055\n",
       "27    0.146934\n",
       "28    0.656008\n",
       "29    0.652139\n",
       "30    0.454255\n",
       "31    0.315550\n",
       "dtype: float64"
      ]
     },
     "execution_count": 16,
     "metadata": {},
     "output_type": "execute_result"
    }
   ],
   "source": [
    "x"
   ]
  },
  {
   "cell_type": "code",
   "execution_count": 17,
   "id": "622dd244",
   "metadata": {},
   "outputs": [
    {
     "data": {
      "text/plain": [
       "pandas.core.series.Series"
      ]
     },
     "execution_count": 17,
     "metadata": {},
     "output_type": "execute_result"
    }
   ],
   "source": [
    "type(x)"
   ]
  },
  {
   "cell_type": "code",
   "execution_count": 20,
   "id": "0d8d467e",
   "metadata": {},
   "outputs": [
    {
     "data": {
      "text/html": [
       "<div>\n",
       "<style scoped>\n",
       "    .dataframe tbody tr th:only-of-type {\n",
       "        vertical-align: middle;\n",
       "    }\n",
       "\n",
       "    .dataframe tbody tr th {\n",
       "        vertical-align: top;\n",
       "    }\n",
       "\n",
       "    .dataframe thead th {\n",
       "        text-align: right;\n",
       "    }\n",
       "</style>\n",
       "<table border=\"1\" class=\"dataframe\">\n",
       "  <thead>\n",
       "    <tr style=\"text-align: right;\">\n",
       "      <th></th>\n",
       "      <th>11</th>\n",
       "      <th>22</th>\n",
       "      <th>33</th>\n",
       "      <th>44</th>\n",
       "      <th>55</th>\n",
       "    </tr>\n",
       "  </thead>\n",
       "  <tbody>\n",
       "    <tr>\n",
       "      <th>0</th>\n",
       "      <td>0.232684</td>\n",
       "      <td>0.139040</td>\n",
       "      <td>0.077496</td>\n",
       "      <td>0.223601</td>\n",
       "      <td>0.773927</td>\n",
       "    </tr>\n",
       "    <tr>\n",
       "      <th>1</th>\n",
       "      <td>0.022073</td>\n",
       "      <td>0.828988</td>\n",
       "      <td>0.050751</td>\n",
       "      <td>0.383278</td>\n",
       "      <td>0.164082</td>\n",
       "    </tr>\n",
       "    <tr>\n",
       "      <th>2</th>\n",
       "      <td>0.964124</td>\n",
       "      <td>0.147582</td>\n",
       "      <td>0.561191</td>\n",
       "      <td>0.628581</td>\n",
       "      <td>0.547900</td>\n",
       "    </tr>\n",
       "    <tr>\n",
       "      <th>3</th>\n",
       "      <td>0.298839</td>\n",
       "      <td>0.203547</td>\n",
       "      <td>0.093747</td>\n",
       "      <td>0.162059</td>\n",
       "      <td>0.404882</td>\n",
       "    </tr>\n",
       "    <tr>\n",
       "      <th>4</th>\n",
       "      <td>0.671587</td>\n",
       "      <td>0.775182</td>\n",
       "      <td>0.865590</td>\n",
       "      <td>0.921330</td>\n",
       "      <td>0.983814</td>\n",
       "    </tr>\n",
       "    <tr>\n",
       "      <th>5</th>\n",
       "      <td>0.168139</td>\n",
       "      <td>0.534345</td>\n",
       "      <td>0.743579</td>\n",
       "      <td>0.590970</td>\n",
       "      <td>0.544572</td>\n",
       "    </tr>\n",
       "    <tr>\n",
       "      <th>6</th>\n",
       "      <td>0.319197</td>\n",
       "      <td>0.339152</td>\n",
       "      <td>0.427981</td>\n",
       "      <td>0.309263</td>\n",
       "      <td>0.756847</td>\n",
       "    </tr>\n",
       "    <tr>\n",
       "      <th>7</th>\n",
       "      <td>0.924485</td>\n",
       "      <td>0.144940</td>\n",
       "      <td>0.141633</td>\n",
       "      <td>0.460922</td>\n",
       "      <td>0.924361</td>\n",
       "    </tr>\n",
       "    <tr>\n",
       "      <th>8</th>\n",
       "      <td>0.742565</td>\n",
       "      <td>0.103737</td>\n",
       "      <td>0.162666</td>\n",
       "      <td>0.275482</td>\n",
       "      <td>0.054196</td>\n",
       "    </tr>\n",
       "    <tr>\n",
       "      <th>9</th>\n",
       "      <td>0.730113</td>\n",
       "      <td>0.223851</td>\n",
       "      <td>0.494910</td>\n",
       "      <td>0.884617</td>\n",
       "      <td>0.101130</td>\n",
       "    </tr>\n",
       "  </tbody>\n",
       "</table>\n",
       "</div>"
      ],
      "text/plain": [
       "         11        22        33        44        55\n",
       "0  0.232684  0.139040  0.077496  0.223601  0.773927\n",
       "1  0.022073  0.828988  0.050751  0.383278  0.164082\n",
       "2  0.964124  0.147582  0.561191  0.628581  0.547900\n",
       "3  0.298839  0.203547  0.093747  0.162059  0.404882\n",
       "4  0.671587  0.775182  0.865590  0.921330  0.983814\n",
       "5  0.168139  0.534345  0.743579  0.590970  0.544572\n",
       "6  0.319197  0.339152  0.427981  0.309263  0.756847\n",
       "7  0.924485  0.144940  0.141633  0.460922  0.924361\n",
       "8  0.742565  0.103737  0.162666  0.275482  0.054196\n",
       "9  0.730113  0.223851  0.494910  0.884617  0.101130"
      ]
     },
     "execution_count": 20,
     "metadata": {},
     "output_type": "execute_result"
    }
   ],
   "source": [
    "newdf=pd.DataFrame(np.random.rand(10,5),index=np.arange(10), columns=[\"11\", \"22\", \"33\", \"44\", \"55\"])\n",
    "newdf"
   ]
  },
  {
   "cell_type": "code",
   "execution_count": 21,
   "id": "c9139e2c",
   "metadata": {},
   "outputs": [
    {
     "data": {
      "text/plain": [
       "pandas.core.frame.DataFrame"
      ]
     },
     "execution_count": 21,
     "metadata": {},
     "output_type": "execute_result"
    }
   ],
   "source": [
    "type(newdf)\n",
    "\n"
   ]
  },
  {
   "cell_type": "code",
   "execution_count": 22,
   "id": "d086244c",
   "metadata": {},
   "outputs": [
    {
     "ename": "KeyError",
     "evalue": "0",
     "output_type": "error",
     "traceback": [
      "\u001b[1;31m---------------------------------------------------------------------------\u001b[0m",
      "\u001b[1;31mKeyError\u001b[0m                                  Traceback (most recent call last)",
      "File \u001b[1;32mc:\\Users\\omkar\\anaconda3\\envs\\db_env\\lib\\site-packages\\pandas\\core\\indexes\\base.py:3803\u001b[0m, in \u001b[0;36mIndex.get_loc\u001b[1;34m(self, key, method, tolerance)\u001b[0m\n\u001b[0;32m   3802\u001b[0m \u001b[39mtry\u001b[39;00m:\n\u001b[1;32m-> 3803\u001b[0m     \u001b[39mreturn\u001b[39;00m \u001b[39mself\u001b[39;49m\u001b[39m.\u001b[39;49m_engine\u001b[39m.\u001b[39;49mget_loc(casted_key)\n\u001b[0;32m   3804\u001b[0m \u001b[39mexcept\u001b[39;00m \u001b[39mKeyError\u001b[39;00m \u001b[39mas\u001b[39;00m err:\n",
      "File \u001b[1;32mc:\\Users\\omkar\\anaconda3\\envs\\db_env\\lib\\site-packages\\pandas\\_libs\\index.pyx:138\u001b[0m, in \u001b[0;36mpandas._libs.index.IndexEngine.get_loc\u001b[1;34m()\u001b[0m\n",
      "File \u001b[1;32mc:\\Users\\omkar\\anaconda3\\envs\\db_env\\lib\\site-packages\\pandas\\_libs\\index.pyx:165\u001b[0m, in \u001b[0;36mpandas._libs.index.IndexEngine.get_loc\u001b[1;34m()\u001b[0m\n",
      "File \u001b[1;32mpandas\\_libs\\hashtable_class_helper.pxi:5745\u001b[0m, in \u001b[0;36mpandas._libs.hashtable.PyObjectHashTable.get_item\u001b[1;34m()\u001b[0m\n",
      "File \u001b[1;32mpandas\\_libs\\hashtable_class_helper.pxi:5753\u001b[0m, in \u001b[0;36mpandas._libs.hashtable.PyObjectHashTable.get_item\u001b[1;34m()\u001b[0m\n",
      "\u001b[1;31mKeyError\u001b[0m: 0",
      "\nThe above exception was the direct cause of the following exception:\n",
      "\u001b[1;31mKeyError\u001b[0m                                  Traceback (most recent call last)",
      "Cell \u001b[1;32mIn[22], line 1\u001b[0m\n\u001b[1;32m----> 1\u001b[0m newdf[\u001b[39m0\u001b[39;49m][\u001b[39m0\u001b[39m]\u001b[39m=\u001b[39m[\u001b[39m\"\u001b[39m\u001b[39momkar\u001b[39m\u001b[39m\"\u001b[39m,\u001b[39m\"\u001b[39m\u001b[39msairaj\u001b[39m\u001b[39m\"\u001b[39m]\n\u001b[0;32m      2\u001b[0m newdf[\u001b[39m0\u001b[39m][\u001b[39m0\u001b[39m][\u001b[39m1\u001b[39m]\n\u001b[0;32m      3\u001b[0m newdf\u001b[39m.\u001b[39mdtypes\n",
      "File \u001b[1;32mc:\\Users\\omkar\\anaconda3\\envs\\db_env\\lib\\site-packages\\pandas\\core\\frame.py:3805\u001b[0m, in \u001b[0;36mDataFrame.__getitem__\u001b[1;34m(self, key)\u001b[0m\n\u001b[0;32m   3803\u001b[0m \u001b[39mif\u001b[39;00m \u001b[39mself\u001b[39m\u001b[39m.\u001b[39mcolumns\u001b[39m.\u001b[39mnlevels \u001b[39m>\u001b[39m \u001b[39m1\u001b[39m:\n\u001b[0;32m   3804\u001b[0m     \u001b[39mreturn\u001b[39;00m \u001b[39mself\u001b[39m\u001b[39m.\u001b[39m_getitem_multilevel(key)\n\u001b[1;32m-> 3805\u001b[0m indexer \u001b[39m=\u001b[39m \u001b[39mself\u001b[39;49m\u001b[39m.\u001b[39;49mcolumns\u001b[39m.\u001b[39;49mget_loc(key)\n\u001b[0;32m   3806\u001b[0m \u001b[39mif\u001b[39;00m is_integer(indexer):\n\u001b[0;32m   3807\u001b[0m     indexer \u001b[39m=\u001b[39m [indexer]\n",
      "File \u001b[1;32mc:\\Users\\omkar\\anaconda3\\envs\\db_env\\lib\\site-packages\\pandas\\core\\indexes\\base.py:3805\u001b[0m, in \u001b[0;36mIndex.get_loc\u001b[1;34m(self, key, method, tolerance)\u001b[0m\n\u001b[0;32m   3803\u001b[0m     \u001b[39mreturn\u001b[39;00m \u001b[39mself\u001b[39m\u001b[39m.\u001b[39m_engine\u001b[39m.\u001b[39mget_loc(casted_key)\n\u001b[0;32m   3804\u001b[0m \u001b[39mexcept\u001b[39;00m \u001b[39mKeyError\u001b[39;00m \u001b[39mas\u001b[39;00m err:\n\u001b[1;32m-> 3805\u001b[0m     \u001b[39mraise\u001b[39;00m \u001b[39mKeyError\u001b[39;00m(key) \u001b[39mfrom\u001b[39;00m \u001b[39merr\u001b[39;00m\n\u001b[0;32m   3806\u001b[0m \u001b[39mexcept\u001b[39;00m \u001b[39mTypeError\u001b[39;00m:\n\u001b[0;32m   3807\u001b[0m     \u001b[39m# If we have a listlike key, _check_indexing_error will raise\u001b[39;00m\n\u001b[0;32m   3808\u001b[0m     \u001b[39m#  InvalidIndexError. Otherwise we fall through and re-raise\u001b[39;00m\n\u001b[0;32m   3809\u001b[0m     \u001b[39m#  the TypeError.\u001b[39;00m\n\u001b[0;32m   3810\u001b[0m     \u001b[39mself\u001b[39m\u001b[39m.\u001b[39m_check_indexing_error(key)\n",
      "\u001b[1;31mKeyError\u001b[0m: 0"
     ]
    }
   ],
   "source": [
    "newdf[0][0]=[\"omkar\",\"sairaj\"]\n",
    "newdf[0][0][1]\n",
    "newdf.dtypes\n",
    "newdf.to_csv('new.csv')\n",
    "newdf[0][0][1]\n",
    "newdf"
   ]
  },
  {
   "cell_type": "code",
   "execution_count": null,
   "id": "5d95e473",
   "metadata": {},
   "outputs": [
    {
     "data": {
      "text/plain": [
       "Int64Index([0, 1, 2, 3, 4, 5, 6, 7, 8, 9], dtype='int64')"
      ]
     },
     "execution_count": 21,
     "metadata": {},
     "output_type": "execute_result"
    }
   ],
   "source": [
    "newdf.index"
   ]
  },
  {
   "cell_type": "code",
   "execution_count": null,
   "id": "28e874b5",
   "metadata": {},
   "outputs": [
    {
     "data": {
      "text/html": [
       "<div>\n",
       "<style scoped>\n",
       "    .dataframe tbody tr th:only-of-type {\n",
       "        vertical-align: middle;\n",
       "    }\n",
       "\n",
       "    .dataframe tbody tr th {\n",
       "        vertical-align: top;\n",
       "    }\n",
       "\n",
       "    .dataframe thead th {\n",
       "        text-align: right;\n",
       "    }\n",
       "</style>\n",
       "<table border=\"1\" class=\"dataframe\">\n",
       "  <thead>\n",
       "    <tr style=\"text-align: right;\">\n",
       "      <th></th>\n",
       "      <th>a</th>\n",
       "      <th>b</th>\n",
       "      <th>c</th>\n",
       "      <th>d</th>\n",
       "      <th>e</th>\n",
       "    </tr>\n",
       "  </thead>\n",
       "  <tbody>\n",
       "    <tr>\n",
       "      <th>0</th>\n",
       "      <td>[omkar, sairaj]</td>\n",
       "      <td>0.871735</td>\n",
       "      <td>0.070232</td>\n",
       "      <td>0.093145</td>\n",
       "      <td>0.125359</td>\n",
       "    </tr>\n",
       "    <tr>\n",
       "      <th>1</th>\n",
       "      <td>0.182761</td>\n",
       "      <td>0.197845</td>\n",
       "      <td>0.749684</td>\n",
       "      <td>0.722638</td>\n",
       "      <td>0.792393</td>\n",
       "    </tr>\n",
       "    <tr>\n",
       "      <th>2</th>\n",
       "      <td>0.307461</td>\n",
       "      <td>0.905553</td>\n",
       "      <td>0.006770</td>\n",
       "      <td>0.415487</td>\n",
       "      <td>0.441121</td>\n",
       "    </tr>\n",
       "    <tr>\n",
       "      <th>3</th>\n",
       "      <td>0.069815</td>\n",
       "      <td>0.793227</td>\n",
       "      <td>0.545553</td>\n",
       "      <td>0.938383</td>\n",
       "      <td>0.201275</td>\n",
       "    </tr>\n",
       "    <tr>\n",
       "      <th>4</th>\n",
       "      <td>0.703251</td>\n",
       "      <td>0.429368</td>\n",
       "      <td>0.825447</td>\n",
       "      <td>0.268012</td>\n",
       "      <td>0.269413</td>\n",
       "    </tr>\n",
       "    <tr>\n",
       "      <th>5</th>\n",
       "      <td>0.869188</td>\n",
       "      <td>0.256182</td>\n",
       "      <td>0.608883</td>\n",
       "      <td>0.115711</td>\n",
       "      <td>0.051274</td>\n",
       "    </tr>\n",
       "    <tr>\n",
       "      <th>6</th>\n",
       "      <td>0.416681</td>\n",
       "      <td>0.176843</td>\n",
       "      <td>0.769127</td>\n",
       "      <td>0.520808</td>\n",
       "      <td>0.051635</td>\n",
       "    </tr>\n",
       "    <tr>\n",
       "      <th>7</th>\n",
       "      <td>0.683456</td>\n",
       "      <td>0.722375</td>\n",
       "      <td>0.523965</td>\n",
       "      <td>0.346303</td>\n",
       "      <td>0.186340</td>\n",
       "    </tr>\n",
       "    <tr>\n",
       "      <th>8</th>\n",
       "      <td>0.218887</td>\n",
       "      <td>0.175965</td>\n",
       "      <td>0.987823</td>\n",
       "      <td>0.578938</td>\n",
       "      <td>0.272895</td>\n",
       "    </tr>\n",
       "    <tr>\n",
       "      <th>9</th>\n",
       "      <td>0.524484</td>\n",
       "      <td>0.985938</td>\n",
       "      <td>0.411249</td>\n",
       "      <td>0.572005</td>\n",
       "      <td>0.092691</td>\n",
       "    </tr>\n",
       "  </tbody>\n",
       "</table>\n",
       "</div>"
      ],
      "text/plain": [
       "                 a         b         c         d         e\n",
       "0  [omkar, sairaj]  0.871735  0.070232  0.093145  0.125359\n",
       "1         0.182761  0.197845  0.749684  0.722638  0.792393\n",
       "2         0.307461  0.905553  0.006770  0.415487  0.441121\n",
       "3         0.069815  0.793227  0.545553  0.938383  0.201275\n",
       "4         0.703251  0.429368  0.825447  0.268012  0.269413\n",
       "5         0.869188  0.256182  0.608883  0.115711  0.051274\n",
       "6         0.416681  0.176843  0.769127  0.520808  0.051635\n",
       "7         0.683456  0.722375  0.523965  0.346303  0.186340\n",
       "8         0.218887  0.175965  0.987823  0.578938  0.272895\n",
       "9         0.524484  0.985938  0.411249  0.572005  0.092691"
      ]
     },
     "execution_count": 22,
     "metadata": {},
     "output_type": "execute_result"
    }
   ],
   "source": [
    "newdf.columns\n",
    "newdf.columns=['a','b','c','d','e']\n",
    "newdf"
   ]
  },
  {
   "cell_type": "markdown",
   "id": "f690b15b",
   "metadata": {},
   "source": [
    "# to_numpy"
   ]
  },
  {
   "cell_type": "code",
   "execution_count": 32,
   "id": "3d954a6b",
   "metadata": {},
   "outputs": [
    {
     "name": "stdout",
     "output_type": "stream",
     "text": [
      "2\n",
      "<bound method DataFrame.to_numpy of          11        22        33        44        55\n",
      "0  0.232684  0.139040  0.077496  0.223601  0.773927\n",
      "1  0.022073  0.828988  0.050751  0.383278  0.164082\n",
      "2  0.964124  0.147582  0.561191  0.628581  0.547900\n",
      "3  0.298839  0.203547  0.093747  0.162059  0.404882\n",
      "4  0.671587  0.775182  0.865590  0.921330  0.983814\n",
      "5  0.168139  0.534345  0.743579  0.590970  0.544572\n",
      "6  0.319197  0.339152  0.427981  0.309263  0.756847\n",
      "7  0.924485  0.144940  0.141633  0.460922  0.924361\n",
      "8  0.742565  0.103737  0.162666  0.275482  0.054196\n",
      "9  0.730113  0.223851  0.494910  0.884617  0.101130>\n"
     ]
    }
   ],
   "source": [
    "print(newdf.to_numpy().ndim)\n",
    "print(newdf.to_numpy)\n"
   ]
  },
  {
   "cell_type": "code",
   "execution_count": 33,
   "id": "f923fb47",
   "metadata": {},
   "outputs": [
    {
     "data": {
      "text/html": [
       "<div>\n",
       "<style scoped>\n",
       "    .dataframe tbody tr th:only-of-type {\n",
       "        vertical-align: middle;\n",
       "    }\n",
       "\n",
       "    .dataframe tbody tr th {\n",
       "        vertical-align: top;\n",
       "    }\n",
       "\n",
       "    .dataframe thead th {\n",
       "        text-align: right;\n",
       "    }\n",
       "</style>\n",
       "<table border=\"1\" class=\"dataframe\">\n",
       "  <thead>\n",
       "    <tr style=\"text-align: right;\">\n",
       "      <th></th>\n",
       "      <th>0</th>\n",
       "      <th>1</th>\n",
       "      <th>2</th>\n",
       "      <th>3</th>\n",
       "      <th>4</th>\n",
       "      <th>5</th>\n",
       "      <th>6</th>\n",
       "      <th>7</th>\n",
       "      <th>8</th>\n",
       "      <th>9</th>\n",
       "    </tr>\n",
       "  </thead>\n",
       "  <tbody>\n",
       "    <tr>\n",
       "      <th>11</th>\n",
       "      <td>0.232684</td>\n",
       "      <td>0.022073</td>\n",
       "      <td>0.964124</td>\n",
       "      <td>0.298839</td>\n",
       "      <td>0.671587</td>\n",
       "      <td>0.168139</td>\n",
       "      <td>0.319197</td>\n",
       "      <td>0.924485</td>\n",
       "      <td>0.742565</td>\n",
       "      <td>0.730113</td>\n",
       "    </tr>\n",
       "    <tr>\n",
       "      <th>22</th>\n",
       "      <td>0.139040</td>\n",
       "      <td>0.828988</td>\n",
       "      <td>0.147582</td>\n",
       "      <td>0.203547</td>\n",
       "      <td>0.775182</td>\n",
       "      <td>0.534345</td>\n",
       "      <td>0.339152</td>\n",
       "      <td>0.144940</td>\n",
       "      <td>0.103737</td>\n",
       "      <td>0.223851</td>\n",
       "    </tr>\n",
       "    <tr>\n",
       "      <th>33</th>\n",
       "      <td>0.077496</td>\n",
       "      <td>0.050751</td>\n",
       "      <td>0.561191</td>\n",
       "      <td>0.093747</td>\n",
       "      <td>0.865590</td>\n",
       "      <td>0.743579</td>\n",
       "      <td>0.427981</td>\n",
       "      <td>0.141633</td>\n",
       "      <td>0.162666</td>\n",
       "      <td>0.494910</td>\n",
       "    </tr>\n",
       "    <tr>\n",
       "      <th>44</th>\n",
       "      <td>0.223601</td>\n",
       "      <td>0.383278</td>\n",
       "      <td>0.628581</td>\n",
       "      <td>0.162059</td>\n",
       "      <td>0.921330</td>\n",
       "      <td>0.590970</td>\n",
       "      <td>0.309263</td>\n",
       "      <td>0.460922</td>\n",
       "      <td>0.275482</td>\n",
       "      <td>0.884617</td>\n",
       "    </tr>\n",
       "    <tr>\n",
       "      <th>55</th>\n",
       "      <td>0.773927</td>\n",
       "      <td>0.164082</td>\n",
       "      <td>0.547900</td>\n",
       "      <td>0.404882</td>\n",
       "      <td>0.983814</td>\n",
       "      <td>0.544572</td>\n",
       "      <td>0.756847</td>\n",
       "      <td>0.924361</td>\n",
       "      <td>0.054196</td>\n",
       "      <td>0.101130</td>\n",
       "    </tr>\n",
       "  </tbody>\n",
       "</table>\n",
       "</div>"
      ],
      "text/plain": [
       "           0         1         2         3         4         5         6  \\\n",
       "11  0.232684  0.022073  0.964124  0.298839  0.671587  0.168139  0.319197   \n",
       "22  0.139040  0.828988  0.147582  0.203547  0.775182  0.534345  0.339152   \n",
       "33  0.077496  0.050751  0.561191  0.093747  0.865590  0.743579  0.427981   \n",
       "44  0.223601  0.383278  0.628581  0.162059  0.921330  0.590970  0.309263   \n",
       "55  0.773927  0.164082  0.547900  0.404882  0.983814  0.544572  0.756847   \n",
       "\n",
       "           7         8         9  \n",
       "11  0.924485  0.742565  0.730113  \n",
       "22  0.144940  0.103737  0.223851  \n",
       "33  0.141633  0.162666  0.494910  \n",
       "44  0.460922  0.275482  0.884617  \n",
       "55  0.924361  0.054196  0.101130  "
      ]
     },
     "execution_count": 33,
     "metadata": {},
     "output_type": "execute_result"
    }
   ],
   "source": [
    "#transpose of dataframe\n",
    "newdf.T"
   ]
  },
  {
   "cell_type": "code",
   "execution_count": 34,
   "id": "765ff3d2",
   "metadata": {
    "scrolled": true
   },
   "outputs": [
    {
     "data": {
      "text/html": [
       "<div>\n",
       "<style scoped>\n",
       "    .dataframe tbody tr th:only-of-type {\n",
       "        vertical-align: middle;\n",
       "    }\n",
       "\n",
       "    .dataframe tbody tr th {\n",
       "        vertical-align: top;\n",
       "    }\n",
       "\n",
       "    .dataframe thead th {\n",
       "        text-align: right;\n",
       "    }\n",
       "</style>\n",
       "<table border=\"1\" class=\"dataframe\">\n",
       "  <thead>\n",
       "    <tr style=\"text-align: right;\">\n",
       "      <th></th>\n",
       "      <th>11</th>\n",
       "      <th>22</th>\n",
       "      <th>33</th>\n",
       "      <th>44</th>\n",
       "      <th>55</th>\n",
       "    </tr>\n",
       "  </thead>\n",
       "  <tbody>\n",
       "    <tr>\n",
       "      <th>9</th>\n",
       "      <td>0.730113</td>\n",
       "      <td>0.223851</td>\n",
       "      <td>0.494910</td>\n",
       "      <td>0.884617</td>\n",
       "      <td>0.101130</td>\n",
       "    </tr>\n",
       "    <tr>\n",
       "      <th>8</th>\n",
       "      <td>0.742565</td>\n",
       "      <td>0.103737</td>\n",
       "      <td>0.162666</td>\n",
       "      <td>0.275482</td>\n",
       "      <td>0.054196</td>\n",
       "    </tr>\n",
       "    <tr>\n",
       "      <th>7</th>\n",
       "      <td>0.924485</td>\n",
       "      <td>0.144940</td>\n",
       "      <td>0.141633</td>\n",
       "      <td>0.460922</td>\n",
       "      <td>0.924361</td>\n",
       "    </tr>\n",
       "    <tr>\n",
       "      <th>6</th>\n",
       "      <td>0.319197</td>\n",
       "      <td>0.339152</td>\n",
       "      <td>0.427981</td>\n",
       "      <td>0.309263</td>\n",
       "      <td>0.756847</td>\n",
       "    </tr>\n",
       "    <tr>\n",
       "      <th>5</th>\n",
       "      <td>0.168139</td>\n",
       "      <td>0.534345</td>\n",
       "      <td>0.743579</td>\n",
       "      <td>0.590970</td>\n",
       "      <td>0.544572</td>\n",
       "    </tr>\n",
       "    <tr>\n",
       "      <th>4</th>\n",
       "      <td>0.671587</td>\n",
       "      <td>0.775182</td>\n",
       "      <td>0.865590</td>\n",
       "      <td>0.921330</td>\n",
       "      <td>0.983814</td>\n",
       "    </tr>\n",
       "    <tr>\n",
       "      <th>3</th>\n",
       "      <td>0.298839</td>\n",
       "      <td>0.203547</td>\n",
       "      <td>0.093747</td>\n",
       "      <td>0.162059</td>\n",
       "      <td>0.404882</td>\n",
       "    </tr>\n",
       "    <tr>\n",
       "      <th>2</th>\n",
       "      <td>0.964124</td>\n",
       "      <td>0.147582</td>\n",
       "      <td>0.561191</td>\n",
       "      <td>0.628581</td>\n",
       "      <td>0.547900</td>\n",
       "    </tr>\n",
       "    <tr>\n",
       "      <th>1</th>\n",
       "      <td>0.022073</td>\n",
       "      <td>0.828988</td>\n",
       "      <td>0.050751</td>\n",
       "      <td>0.383278</td>\n",
       "      <td>0.164082</td>\n",
       "    </tr>\n",
       "    <tr>\n",
       "      <th>0</th>\n",
       "      <td>0.232684</td>\n",
       "      <td>0.139040</td>\n",
       "      <td>0.077496</td>\n",
       "      <td>0.223601</td>\n",
       "      <td>0.773927</td>\n",
       "    </tr>\n",
       "  </tbody>\n",
       "</table>\n",
       "</div>"
      ],
      "text/plain": [
       "         11        22        33        44        55\n",
       "9  0.730113  0.223851  0.494910  0.884617  0.101130\n",
       "8  0.742565  0.103737  0.162666  0.275482  0.054196\n",
       "7  0.924485  0.144940  0.141633  0.460922  0.924361\n",
       "6  0.319197  0.339152  0.427981  0.309263  0.756847\n",
       "5  0.168139  0.534345  0.743579  0.590970  0.544572\n",
       "4  0.671587  0.775182  0.865590  0.921330  0.983814\n",
       "3  0.298839  0.203547  0.093747  0.162059  0.404882\n",
       "2  0.964124  0.147582  0.561191  0.628581  0.547900\n",
       "1  0.022073  0.828988  0.050751  0.383278  0.164082\n",
       "0  0.232684  0.139040  0.077496  0.223601  0.773927"
      ]
     },
     "execution_count": 34,
     "metadata": {},
     "output_type": "execute_result"
    }
   ],
   "source": [
    "#sorting\n",
    "newdf.sort_index(axis=0,ascending=False) #(by default asc true and axis 0(row))\n",
    "# newdf.sort_index(axis=0)  0 for row and 1 for col "
   ]
  },
  {
   "cell_type": "code",
   "execution_count": 35,
   "id": "93e6cc0b",
   "metadata": {},
   "outputs": [
    {
     "ename": "KeyError",
     "evalue": "0",
     "output_type": "error",
     "traceback": [
      "\u001b[1;31m---------------------------------------------------------------------------\u001b[0m",
      "\u001b[1;31mKeyError\u001b[0m                                  Traceback (most recent call last)",
      "File \u001b[1;32mc:\\Users\\omkar\\anaconda3\\envs\\db_env\\lib\\site-packages\\pandas\\core\\indexes\\base.py:3803\u001b[0m, in \u001b[0;36mIndex.get_loc\u001b[1;34m(self, key, method, tolerance)\u001b[0m\n\u001b[0;32m   3802\u001b[0m \u001b[39mtry\u001b[39;00m:\n\u001b[1;32m-> 3803\u001b[0m     \u001b[39mreturn\u001b[39;00m \u001b[39mself\u001b[39;49m\u001b[39m.\u001b[39;49m_engine\u001b[39m.\u001b[39;49mget_loc(casted_key)\n\u001b[0;32m   3804\u001b[0m \u001b[39mexcept\u001b[39;00m \u001b[39mKeyError\u001b[39;00m \u001b[39mas\u001b[39;00m err:\n",
      "File \u001b[1;32mc:\\Users\\omkar\\anaconda3\\envs\\db_env\\lib\\site-packages\\pandas\\_libs\\index.pyx:138\u001b[0m, in \u001b[0;36mpandas._libs.index.IndexEngine.get_loc\u001b[1;34m()\u001b[0m\n",
      "File \u001b[1;32mc:\\Users\\omkar\\anaconda3\\envs\\db_env\\lib\\site-packages\\pandas\\_libs\\index.pyx:165\u001b[0m, in \u001b[0;36mpandas._libs.index.IndexEngine.get_loc\u001b[1;34m()\u001b[0m\n",
      "File \u001b[1;32mpandas\\_libs\\hashtable_class_helper.pxi:5745\u001b[0m, in \u001b[0;36mpandas._libs.hashtable.PyObjectHashTable.get_item\u001b[1;34m()\u001b[0m\n",
      "File \u001b[1;32mpandas\\_libs\\hashtable_class_helper.pxi:5753\u001b[0m, in \u001b[0;36mpandas._libs.hashtable.PyObjectHashTable.get_item\u001b[1;34m()\u001b[0m\n",
      "\u001b[1;31mKeyError\u001b[0m: 0",
      "\nThe above exception was the direct cause of the following exception:\n",
      "\u001b[1;31mKeyError\u001b[0m                                  Traceback (most recent call last)",
      "Cell \u001b[1;32mIn[35], line 1\u001b[0m\n\u001b[1;32m----> 1\u001b[0m \u001b[39mtype\u001b[39m(newdf[\u001b[39m0\u001b[39;49m])\n",
      "File \u001b[1;32mc:\\Users\\omkar\\anaconda3\\envs\\db_env\\lib\\site-packages\\pandas\\core\\frame.py:3805\u001b[0m, in \u001b[0;36mDataFrame.__getitem__\u001b[1;34m(self, key)\u001b[0m\n\u001b[0;32m   3803\u001b[0m \u001b[39mif\u001b[39;00m \u001b[39mself\u001b[39m\u001b[39m.\u001b[39mcolumns\u001b[39m.\u001b[39mnlevels \u001b[39m>\u001b[39m \u001b[39m1\u001b[39m:\n\u001b[0;32m   3804\u001b[0m     \u001b[39mreturn\u001b[39;00m \u001b[39mself\u001b[39m\u001b[39m.\u001b[39m_getitem_multilevel(key)\n\u001b[1;32m-> 3805\u001b[0m indexer \u001b[39m=\u001b[39m \u001b[39mself\u001b[39;49m\u001b[39m.\u001b[39;49mcolumns\u001b[39m.\u001b[39;49mget_loc(key)\n\u001b[0;32m   3806\u001b[0m \u001b[39mif\u001b[39;00m is_integer(indexer):\n\u001b[0;32m   3807\u001b[0m     indexer \u001b[39m=\u001b[39m [indexer]\n",
      "File \u001b[1;32mc:\\Users\\omkar\\anaconda3\\envs\\db_env\\lib\\site-packages\\pandas\\core\\indexes\\base.py:3805\u001b[0m, in \u001b[0;36mIndex.get_loc\u001b[1;34m(self, key, method, tolerance)\u001b[0m\n\u001b[0;32m   3803\u001b[0m     \u001b[39mreturn\u001b[39;00m \u001b[39mself\u001b[39m\u001b[39m.\u001b[39m_engine\u001b[39m.\u001b[39mget_loc(casted_key)\n\u001b[0;32m   3804\u001b[0m \u001b[39mexcept\u001b[39;00m \u001b[39mKeyError\u001b[39;00m \u001b[39mas\u001b[39;00m err:\n\u001b[1;32m-> 3805\u001b[0m     \u001b[39mraise\u001b[39;00m \u001b[39mKeyError\u001b[39;00m(key) \u001b[39mfrom\u001b[39;00m \u001b[39merr\u001b[39;00m\n\u001b[0;32m   3806\u001b[0m \u001b[39mexcept\u001b[39;00m \u001b[39mTypeError\u001b[39;00m:\n\u001b[0;32m   3807\u001b[0m     \u001b[39m# If we have a listlike key, _check_indexing_error will raise\u001b[39;00m\n\u001b[0;32m   3808\u001b[0m     \u001b[39m#  InvalidIndexError. Otherwise we fall through and re-raise\u001b[39;00m\n\u001b[0;32m   3809\u001b[0m     \u001b[39m#  the TypeError.\u001b[39;00m\n\u001b[0;32m   3810\u001b[0m     \u001b[39mself\u001b[39m\u001b[39m.\u001b[39m_check_indexing_error(key)\n",
      "\u001b[1;31mKeyError\u001b[0m: 0"
     ]
    }
   ],
   "source": [
    "type(newdf[0])"
   ]
  },
  {
   "cell_type": "code",
   "execution_count": null,
   "id": "4796c860",
   "metadata": {},
   "outputs": [],
   "source": [
    "type(newdf)"
   ]
  },
  {
   "cell_type": "code",
   "execution_count": null,
   "id": "d8d11b55",
   "metadata": {},
   "outputs": [],
   "source": [
    "newdf[0]  #accessing cols"
   ]
  },
  {
   "cell_type": "markdown",
   "id": "cd3165a8",
   "metadata": {},
   "source": [
    "# creating view"
   ]
  },
  {
   "cell_type": "code",
   "execution_count": null,
   "id": "51cfe26e",
   "metadata": {},
   "outputs": [],
   "source": [
    "df2=newdf  #points to old dataframe\n",
    "           #changes made in new df will reflect in old newdf"
   ]
  },
  {
   "cell_type": "code",
   "execution_count": null,
   "id": "0eb6fdd1",
   "metadata": {},
   "outputs": [],
   "source": [
    "df2[0][0]=0.3291\n",
    "newdf"
   ]
  },
  {
   "cell_type": "code",
   "execution_count": null,
   "id": "d6a42d98",
   "metadata": {},
   "outputs": [],
   "source": [
    "#making copy of df\n",
    "df3=df2.copy()  #will make seprate copy of df\n",
    "df3[0][0]=0.9922\n",
    "df2\n"
   ]
  },
  {
   "cell_type": "code",
   "execution_count": null,
   "id": "8c1a17b8",
   "metadata": {},
   "outputs": [],
   "source": []
  },
  {
   "cell_type": "markdown",
   "id": "da2a4427",
   "metadata": {},
   "source": [
    "# Accessing val / changing fields using loc command"
   ]
  },
  {
   "cell_type": "code",
   "execution_count": null,
   "id": "80a73ef2",
   "metadata": {},
   "outputs": [
    {
     "data": {
      "text/html": [
       "<div>\n",
       "<style scoped>\n",
       "    .dataframe tbody tr th:only-of-type {\n",
       "        vertical-align: middle;\n",
       "    }\n",
       "\n",
       "    .dataframe tbody tr th {\n",
       "        vertical-align: top;\n",
       "    }\n",
       "\n",
       "    .dataframe thead th {\n",
       "        text-align: right;\n",
       "    }\n",
       "</style>\n",
       "<table border=\"1\" class=\"dataframe\">\n",
       "  <thead>\n",
       "    <tr style=\"text-align: right;\">\n",
       "      <th></th>\n",
       "      <th>A</th>\n",
       "      <th>B</th>\n",
       "      <th>C</th>\n",
       "    </tr>\n",
       "  </thead>\n",
       "  <tbody>\n",
       "    <tr>\n",
       "      <th>0</th>\n",
       "      <td>omkar</td>\n",
       "      <td>23</td>\n",
       "      <td>rampur</td>\n",
       "    </tr>\n",
       "    <tr>\n",
       "      <th>1</th>\n",
       "      <td>sairaj</td>\n",
       "      <td>25</td>\n",
       "      <td>nagpur</td>\n",
       "    </tr>\n",
       "    <tr>\n",
       "      <th>2</th>\n",
       "      <td>rohan</td>\n",
       "      <td>25</td>\n",
       "      <td>jamshedpur</td>\n",
       "    </tr>\n",
       "  </tbody>\n",
       "</table>\n",
       "</div>"
      ],
      "text/plain": [
       "        A   B           C\n",
       "0   omkar  23      rampur\n",
       "1  sairaj  25      nagpur\n",
       "2   rohan  25  jamshedpur"
      ]
     },
     "execution_count": 29,
     "metadata": {},
     "output_type": "execute_result"
    }
   ],
   "source": [
    "df=pd.DataFrame(dict1)\n",
    "df.columns=list(\"ABC\")  #changing col indexing\n",
    "df.head()"
   ]
  },
  {
   "cell_type": "markdown",
   "id": "e5a9b73e",
   "metadata": {},
   "source": []
  },
  {
   "cell_type": "code",
   "execution_count": null,
   "id": "d8994aab",
   "metadata": {},
   "outputs": [
    {
     "data": {
      "text/html": [
       "<div>\n",
       "<style scoped>\n",
       "    .dataframe tbody tr th:only-of-type {\n",
       "        vertical-align: middle;\n",
       "    }\n",
       "\n",
       "    .dataframe tbody tr th {\n",
       "        vertical-align: top;\n",
       "    }\n",
       "\n",
       "    .dataframe thead th {\n",
       "        text-align: right;\n",
       "    }\n",
       "</style>\n",
       "<table border=\"1\" class=\"dataframe\">\n",
       "  <thead>\n",
       "    <tr style=\"text-align: right;\">\n",
       "      <th></th>\n",
       "      <th>A</th>\n",
       "      <th>B</th>\n",
       "      <th>C</th>\n",
       "      <th>0</th>\n",
       "    </tr>\n",
       "  </thead>\n",
       "  <tbody>\n",
       "    <tr>\n",
       "      <th>0</th>\n",
       "      <td>omkar</td>\n",
       "      <td>23</td>\n",
       "      <td>rampur</td>\n",
       "      <td>omkarsase</td>\n",
       "    </tr>\n",
       "    <tr>\n",
       "      <th>1</th>\n",
       "      <td>sairaj</td>\n",
       "      <td>25</td>\n",
       "      <td>nagpur</td>\n",
       "      <td>NaN</td>\n",
       "    </tr>\n",
       "    <tr>\n",
       "      <th>2</th>\n",
       "      <td>rohan</td>\n",
       "      <td>25</td>\n",
       "      <td>jamshedpur</td>\n",
       "      <td>NaN</td>\n",
       "    </tr>\n",
       "  </tbody>\n",
       "</table>\n",
       "</div>"
      ],
      "text/plain": [
       "        A   B           C          0\n",
       "0   omkar  23      rampur  omkarsase\n",
       "1  sairaj  25      nagpur        NaN\n",
       "2   rohan  25  jamshedpur        NaN"
      ]
     },
     "execution_count": 30,
     "metadata": {},
     "output_type": "execute_result"
    }
   ],
   "source": [
    "#loc method\n",
    "df.loc[0,0]=\"omkarsase\"  #THIS WILL ADD COL WITH NAME 0 AS WE HAVE USED ABC INDEXING\n",
    "df.head()"
   ]
  },
  {
   "cell_type": "code",
   "execution_count": null,
   "id": "a27eeaa0",
   "metadata": {},
   "outputs": [
    {
     "data": {
      "text/html": [
       "<div>\n",
       "<style scoped>\n",
       "    .dataframe tbody tr th:only-of-type {\n",
       "        vertical-align: middle;\n",
       "    }\n",
       "\n",
       "    .dataframe tbody tr th {\n",
       "        vertical-align: top;\n",
       "    }\n",
       "\n",
       "    .dataframe thead th {\n",
       "        text-align: right;\n",
       "    }\n",
       "</style>\n",
       "<table border=\"1\" class=\"dataframe\">\n",
       "  <thead>\n",
       "    <tr style=\"text-align: right;\">\n",
       "      <th></th>\n",
       "      <th>A</th>\n",
       "      <th>B</th>\n",
       "      <th>C</th>\n",
       "      <th>0</th>\n",
       "    </tr>\n",
       "  </thead>\n",
       "  <tbody>\n",
       "    <tr>\n",
       "      <th>0</th>\n",
       "      <td>omkarsase</td>\n",
       "      <td>23</td>\n",
       "      <td>rampur</td>\n",
       "      <td>omkarsase</td>\n",
       "    </tr>\n",
       "    <tr>\n",
       "      <th>1</th>\n",
       "      <td>sairaj</td>\n",
       "      <td>25</td>\n",
       "      <td>nagpur</td>\n",
       "      <td>NaN</td>\n",
       "    </tr>\n",
       "    <tr>\n",
       "      <th>2</th>\n",
       "      <td>rohan</td>\n",
       "      <td>25</td>\n",
       "      <td>jamshedpur</td>\n",
       "      <td>NaN</td>\n",
       "    </tr>\n",
       "  </tbody>\n",
       "</table>\n",
       "</div>"
      ],
      "text/plain": [
       "           A   B           C          0\n",
       "0  omkarsase  23      rampur  omkarsase\n",
       "1     sairaj  25      nagpur        NaN\n",
       "2      rohan  25  jamshedpur        NaN"
      ]
     },
     "execution_count": 31,
     "metadata": {},
     "output_type": "execute_result"
    }
   ],
   "source": [
    "df.loc[0,'A']=\"omkarsase\"\n",
    "df.head()"
   ]
  },
  {
   "cell_type": "code",
   "execution_count": 43,
   "id": "2577cace",
   "metadata": {},
   "outputs": [
    {
     "data": {
      "text/html": [
       "<div>\n",
       "<style scoped>\n",
       "    .dataframe tbody tr th:only-of-type {\n",
       "        vertical-align: middle;\n",
       "    }\n",
       "\n",
       "    .dataframe tbody tr th {\n",
       "        vertical-align: top;\n",
       "    }\n",
       "\n",
       "    .dataframe thead th {\n",
       "        text-align: right;\n",
       "    }\n",
       "</style>\n",
       "<table border=\"1\" class=\"dataframe\">\n",
       "  <thead>\n",
       "    <tr style=\"text-align: right;\">\n",
       "      <th></th>\n",
       "      <th>A</th>\n",
       "      <th>B</th>\n",
       "      <th>C</th>\n",
       "      <th>0</th>\n",
       "    </tr>\n",
       "  </thead>\n",
       "  <tbody>\n",
       "    <tr>\n",
       "      <th>0</th>\n",
       "      <td>omkarsase</td>\n",
       "      <td>23</td>\n",
       "      <td>rampur</td>\n",
       "      <td>omkarsase</td>\n",
       "    </tr>\n",
       "    <tr>\n",
       "      <th>2</th>\n",
       "      <td>rohan</td>\n",
       "      <td>25</td>\n",
       "      <td>jamshedpur</td>\n",
       "      <td>NaN</td>\n",
       "    </tr>\n",
       "  </tbody>\n",
       "</table>\n",
       "</div>"
      ],
      "text/plain": [
       "           A   B           C          0\n",
       "0  omkarsase  23      rampur  omkarsase\n",
       "2      rohan  25  jamshedpur        NaN"
      ]
     },
     "execution_count": 43,
     "metadata": {},
     "output_type": "execute_result"
    }
   ],
   "source": [
    "#creating view using loc command\n",
    "df.loc[[1,2],['A','C','B']] #FOR SELECTED ROWS AND COLS\n",
    "df.loc[:,['A','B']]         #FOR SELECTED COLS WITH ALL ROWS\n",
    "df.loc[[0,2],:]"
   ]
  },
  {
   "cell_type": "markdown",
   "id": "d0b300eb",
   "metadata": {},
   "source": [
    "# conditional data using loc command"
   ]
  },
  {
   "cell_type": "code",
   "execution_count": null,
   "id": "1ea05656",
   "metadata": {},
   "outputs": [],
   "source": [
    "newdf.loc[(newdf['b']>0.5) & (newdf['d']>0.6)]\n"
   ]
  },
  {
   "cell_type": "markdown",
   "id": "62e4a5ce",
   "metadata": {},
   "source": [
    "# iloc for accessing data"
   ]
  },
  {
   "cell_type": "code",
   "execution_count": 49,
   "id": "bebd5582",
   "metadata": {},
   "outputs": [
    {
     "name": "stdout",
     "output_type": "stream",
     "text": [
      "           A   B           C          0\n",
      "0  omkarsase  23      rampur  omkarsase\n",
      "1     sairaj  25      nagpur        NaN\n",
      "2      rohan  25  jamshedpur        NaN\n"
     ]
    },
    {
     "data": {
      "text/html": [
       "<div>\n",
       "<style scoped>\n",
       "    .dataframe tbody tr th:only-of-type {\n",
       "        vertical-align: middle;\n",
       "    }\n",
       "\n",
       "    .dataframe tbody tr th {\n",
       "        vertical-align: top;\n",
       "    }\n",
       "\n",
       "    .dataframe thead th {\n",
       "        text-align: right;\n",
       "    }\n",
       "</style>\n",
       "<table border=\"1\" class=\"dataframe\">\n",
       "  <thead>\n",
       "    <tr style=\"text-align: right;\">\n",
       "      <th></th>\n",
       "      <th>C</th>\n",
       "      <th>0</th>\n",
       "    </tr>\n",
       "  </thead>\n",
       "  <tbody>\n",
       "    <tr>\n",
       "      <th>0</th>\n",
       "      <td>rampur</td>\n",
       "      <td>omkarsase</td>\n",
       "    </tr>\n",
       "  </tbody>\n",
       "</table>\n",
       "</div>"
      ],
      "text/plain": [
       "        C          0\n",
       "0  rampur  omkarsase"
      ]
     },
     "execution_count": 49,
     "metadata": {},
     "output_type": "execute_result"
    }
   ],
   "source": [
    "print(df)\n",
    "df.iloc[0:1,2:]  #[row,col]   "
   ]
  },
  {
   "cell_type": "code",
   "execution_count": 50,
   "id": "3218cf9b",
   "metadata": {},
   "outputs": [
    {
     "data": {
      "text/html": [
       "<div>\n",
       "<style scoped>\n",
       "    .dataframe tbody tr th:only-of-type {\n",
       "        vertical-align: middle;\n",
       "    }\n",
       "\n",
       "    .dataframe tbody tr th {\n",
       "        vertical-align: top;\n",
       "    }\n",
       "\n",
       "    .dataframe thead th {\n",
       "        text-align: right;\n",
       "    }\n",
       "</style>\n",
       "<table border=\"1\" class=\"dataframe\">\n",
       "  <thead>\n",
       "    <tr style=\"text-align: right;\">\n",
       "      <th></th>\n",
       "      <th>A</th>\n",
       "      <th>B</th>\n",
       "    </tr>\n",
       "  </thead>\n",
       "  <tbody>\n",
       "    <tr>\n",
       "      <th>1</th>\n",
       "      <td>sairaj</td>\n",
       "      <td>25</td>\n",
       "    </tr>\n",
       "    <tr>\n",
       "      <th>2</th>\n",
       "      <td>rohan</td>\n",
       "      <td>25</td>\n",
       "    </tr>\n",
       "  </tbody>\n",
       "</table>\n",
       "</div>"
      ],
      "text/plain": [
       "        A   B\n",
       "1  sairaj  25\n",
       "2   rohan  25"
      ]
     },
     "execution_count": 50,
     "metadata": {},
     "output_type": "execute_result"
    }
   ],
   "source": [
    "df.iloc[[1,2],[0,1]]  #creating view"
   ]
  },
  {
   "cell_type": "markdown",
   "id": "4e6377be",
   "metadata": {},
   "source": [
    "\n",
    "# Dropping rows / cols"
   ]
  },
  {
   "cell_type": "code",
   "execution_count": null,
   "id": "5a033c01",
   "metadata": {},
   "outputs": [],
   "source": [
    "df.drop([\"first\"])   #[\"row name\"] one or multiple\n",
    "# df.drop(0,axis=1)  #by def axix 0 (for row)\n",
    "df.drop(['c','z*'],axis=1)  #for dropping cols \n",
    "#inplace=True will make changes in og df\n",
    "# df.drop(['c','z*'],axis=1,inplace=True)  #for dropping cols \n"
   ]
  },
  {
   "cell_type": "code",
   "execution_count": null,
   "id": "841de34f",
   "metadata": {},
   "outputs": [],
   "source": [
    "#reset index after dropping col or rows\n",
    "newdf\n",
    "newdf.drop(['a','b'],axis=1,inplace=True)\n",
    "newdf.drop([1,5],axis=0,inplace=True)\n",
    "newdf.reset_index(drop=True,inplace=True)\n",
    "newdf"
   ]
  },
  {
   "cell_type": "markdown",
   "id": "24a436c0",
   "metadata": {},
   "source": [
    "# null values removing "
   ]
  },
  {
   "cell_type": "code",
   "execution_count": null,
   "id": "a1c1ce08",
   "metadata": {},
   "outputs": [],
   "source": [
    "newdf.loc[:,['c']]=np.nan\n",
    "newdf.loc[2,'c']=234\n",
    "newdf['c'].isnull()\n",
    "newdf"
   ]
  },
  {
   "cell_type": "code",
   "execution_count": 93,
   "id": "0f9079cd",
   "metadata": {},
   "outputs": [
    {
     "data": {
      "text/html": [
       "<div>\n",
       "<style scoped>\n",
       "    .dataframe tbody tr th:only-of-type {\n",
       "        vertical-align: middle;\n",
       "    }\n",
       "\n",
       "    .dataframe tbody tr th {\n",
       "        vertical-align: top;\n",
       "    }\n",
       "\n",
       "    .dataframe thead th {\n",
       "        text-align: right;\n",
       "    }\n",
       "</style>\n",
       "<table border=\"1\" class=\"dataframe\">\n",
       "  <thead>\n",
       "    <tr style=\"text-align: right;\">\n",
       "      <th></th>\n",
       "      <th>a</th>\n",
       "      <th>b</th>\n",
       "      <th>c</th>\n",
       "      <th>d</th>\n",
       "      <th>e</th>\n",
       "    </tr>\n",
       "  </thead>\n",
       "  <tbody>\n",
       "    <tr>\n",
       "      <th>0</th>\n",
       "      <td>[omkar, sairaj]</td>\n",
       "      <td>0.871735</td>\n",
       "      <td>NaN</td>\n",
       "      <td>0.093145</td>\n",
       "      <td>0.125359</td>\n",
       "    </tr>\n",
       "    <tr>\n",
       "      <th>1</th>\n",
       "      <td>NaN</td>\n",
       "      <td>NaN</td>\n",
       "      <td>NaN</td>\n",
       "      <td>NaN</td>\n",
       "      <td>NaN</td>\n",
       "    </tr>\n",
       "    <tr>\n",
       "      <th>2</th>\n",
       "      <td>NaN</td>\n",
       "      <td>0.905553</td>\n",
       "      <td>NaN</td>\n",
       "      <td>0.415487</td>\n",
       "      <td>0.441121</td>\n",
       "    </tr>\n",
       "    <tr>\n",
       "      <th>3</th>\n",
       "      <td>NaN</td>\n",
       "      <td>0.793227</td>\n",
       "      <td>NaN</td>\n",
       "      <td>0.938383</td>\n",
       "      <td>0.201275</td>\n",
       "    </tr>\n",
       "    <tr>\n",
       "      <th>4</th>\n",
       "      <td>0.703251</td>\n",
       "      <td>0.429368</td>\n",
       "      <td>NaN</td>\n",
       "      <td>234.000000</td>\n",
       "      <td>234.000000</td>\n",
       "    </tr>\n",
       "    <tr>\n",
       "      <th>5</th>\n",
       "      <td>0.869188</td>\n",
       "      <td>0.256182</td>\n",
       "      <td>NaN</td>\n",
       "      <td>234.000000</td>\n",
       "      <td>234.000000</td>\n",
       "    </tr>\n",
       "    <tr>\n",
       "      <th>6</th>\n",
       "      <td>0.416681</td>\n",
       "      <td>0.176843</td>\n",
       "      <td>NaN</td>\n",
       "      <td>234.000000</td>\n",
       "      <td>234.000000</td>\n",
       "    </tr>\n",
       "    <tr>\n",
       "      <th>7</th>\n",
       "      <td>0.683456</td>\n",
       "      <td>0.722375</td>\n",
       "      <td>NaN</td>\n",
       "      <td>234.000000</td>\n",
       "      <td>234.000000</td>\n",
       "    </tr>\n",
       "    <tr>\n",
       "      <th>8</th>\n",
       "      <td>0.218887</td>\n",
       "      <td>0.175965</td>\n",
       "      <td>NaN</td>\n",
       "      <td>234.000000</td>\n",
       "      <td>234.000000</td>\n",
       "    </tr>\n",
       "    <tr>\n",
       "      <th>9</th>\n",
       "      <td>0.524484</td>\n",
       "      <td>0.985938</td>\n",
       "      <td>NaN</td>\n",
       "      <td>0.572005</td>\n",
       "      <td>0.092691</td>\n",
       "    </tr>\n",
       "  </tbody>\n",
       "</table>\n",
       "</div>"
      ],
      "text/plain": [
       "                 a         b   c           d           e\n",
       "0  [omkar, sairaj]  0.871735 NaN    0.093145    0.125359\n",
       "1              NaN       NaN NaN         NaN         NaN\n",
       "2              NaN  0.905553 NaN    0.415487    0.441121\n",
       "3              NaN  0.793227 NaN    0.938383    0.201275\n",
       "4         0.703251  0.429368 NaN  234.000000  234.000000\n",
       "5         0.869188  0.256182 NaN  234.000000  234.000000\n",
       "6         0.416681  0.176843 NaN  234.000000  234.000000\n",
       "7         0.683456  0.722375 NaN  234.000000  234.000000\n",
       "8         0.218887  0.175965 NaN  234.000000  234.000000\n",
       "9         0.524484  0.985938 NaN    0.572005    0.092691"
      ]
     },
     "execution_count": 93,
     "metadata": {},
     "output_type": "execute_result"
    }
   ],
   "source": [
    "#dropping cols having all null values\n",
    "newdf.loc[:,['c']]=np.nan   #for all rows with spcecific cols\n",
    "newdf.loc[4:8,'d':'e']=234  #for specific region\n",
    "newdf.loc[1,:]=np.nan\n",
    "# newdf.dropna(axis=1)   #will remove all row having null value\n",
    "# newdf.dropna(axis=0)   #will remove all row having null value\n",
    "# newdf.loc[0,'c']=44\n",
    "newdf\n",
    "\n",
    "newdf.iloc[3,0]=np.nan\n",
    "newdf\n",
    "# newdf.dropna(how=\"all\",axis=1) #will not drop col unless & until all col values become zero"
   ]
  },
  {
   "cell_type": "code",
   "execution_count": 90,
   "id": "2759dd10",
   "metadata": {},
   "outputs": [
    {
     "data": {
      "text/html": [
       "<div>\n",
       "<style scoped>\n",
       "    .dataframe tbody tr th:only-of-type {\n",
       "        vertical-align: middle;\n",
       "    }\n",
       "\n",
       "    .dataframe tbody tr th {\n",
       "        vertical-align: top;\n",
       "    }\n",
       "\n",
       "    .dataframe thead th {\n",
       "        text-align: right;\n",
       "    }\n",
       "</style>\n",
       "<table border=\"1\" class=\"dataframe\">\n",
       "  <thead>\n",
       "    <tr style=\"text-align: right;\">\n",
       "      <th></th>\n",
       "      <th>name</th>\n",
       "      <th>marks</th>\n",
       "      <th>city</th>\n",
       "    </tr>\n",
       "  </thead>\n",
       "  <tbody>\n",
       "    <tr>\n",
       "      <th>0</th>\n",
       "      <td>NaN</td>\n",
       "      <td>NaN</td>\n",
       "      <td>NaN</td>\n",
       "    </tr>\n",
       "    <tr>\n",
       "      <th>1</th>\n",
       "      <td>sairaj</td>\n",
       "      <td>25.0</td>\n",
       "      <td>nagpur</td>\n",
       "    </tr>\n",
       "    <tr>\n",
       "      <th>2</th>\n",
       "      <td>rohan</td>\n",
       "      <td>25.0</td>\n",
       "      <td>jamshedpur</td>\n",
       "    </tr>\n",
       "  </tbody>\n",
       "</table>\n",
       "</div>"
      ],
      "text/plain": [
       "     name  marks        city\n",
       "0     NaN    NaN         NaN\n",
       "1  sairaj   25.0      nagpur\n",
       "2   rohan   25.0  jamshedpur"
      ]
     },
     "execution_count": 90,
     "metadata": {},
     "output_type": "execute_result"
    }
   ],
   "source": [
    "df1=pd.DataFrame(dict1)\n",
    "# df1.loc[1,'marks']=np.nan\n",
    "# df1.iloc[1:2,0:1]=np.nan\n",
    "df1.iloc[0]=np.nan\n",
    "df1\n",
    "# df1.dropna(a)"
   ]
  },
  {
   "cell_type": "markdown",
   "id": "a9276053",
   "metadata": {},
   "source": [
    "# Remove Duplicates"
   ]
  },
  {
   "cell_type": "code",
   "execution_count": null,
   "id": "0ffacdf7",
   "metadata": {},
   "outputs": [],
   "source": [
    "newdf.iloc[0,0]=\"omkar\"\n",
    "newdf.iloc[1,0]=\"omkar\"\n",
    "# newdf.drop_duplicates(subset=['c'])\n",
    "newdf.drop_duplicates(subset=['c'],keep='last')  #will delete all other records\n",
    "newdf.drop_duplicates(subset=['c'],keep=False)  #will delete all records\n",
    "# newdf"
   ]
  },
  {
   "cell_type": "code",
   "execution_count": 24,
   "id": "2b79adea",
   "metadata": {},
   "outputs": [
    {
     "data": {
      "text/plain": [
       "(3, 3)"
      ]
     },
     "execution_count": 24,
     "metadata": {},
     "output_type": "execute_result"
    }
   ],
   "source": [
    "#shape\n",
    "df.shape"
   ]
  },
  {
   "cell_type": "code",
   "execution_count": 95,
   "id": "ef3b9744",
   "metadata": {},
   "outputs": [
    {
     "name": "stdout",
     "output_type": "stream",
     "text": [
      "<class 'pandas.core.frame.DataFrame'>\n",
      "Index: 3 entries, first to third\n",
      "Data columns (total 3 columns):\n",
      " #   Column  Non-Null Count  Dtype \n",
      "---  ------  --------------  ----- \n",
      " 0   c       3 non-null      object\n",
      " 1   y       3 non-null      int64 \n",
      " 2   z*      3 non-null      object\n",
      "dtypes: int64(1), object(2)\n",
      "memory usage: 96.0+ bytes\n"
     ]
    },
    {
     "data": {
      "text/html": [
       "<div>\n",
       "<style scoped>\n",
       "    .dataframe tbody tr th:only-of-type {\n",
       "        vertical-align: middle;\n",
       "    }\n",
       "\n",
       "    .dataframe tbody tr th {\n",
       "        vertical-align: top;\n",
       "    }\n",
       "\n",
       "    .dataframe thead th {\n",
       "        text-align: right;\n",
       "    }\n",
       "</style>\n",
       "<table border=\"1\" class=\"dataframe\">\n",
       "  <thead>\n",
       "    <tr style=\"text-align: right;\">\n",
       "      <th></th>\n",
       "      <th>c</th>\n",
       "      <th>y</th>\n",
       "      <th>z*</th>\n",
       "    </tr>\n",
       "  </thead>\n",
       "  <tbody>\n",
       "    <tr>\n",
       "      <th>first</th>\n",
       "      <td>omkar</td>\n",
       "      <td>23</td>\n",
       "      <td>rampur</td>\n",
       "    </tr>\n",
       "    <tr>\n",
       "      <th>second</th>\n",
       "      <td>sairaj</td>\n",
       "      <td>25</td>\n",
       "      <td>nagpur</td>\n",
       "    </tr>\n",
       "    <tr>\n",
       "      <th>third</th>\n",
       "      <td>rohan</td>\n",
       "      <td>25</td>\n",
       "      <td>jamshedpur</td>\n",
       "    </tr>\n",
       "  </tbody>\n",
       "</table>\n",
       "</div>"
      ],
      "text/plain": [
       "             c   y          z*\n",
       "first    omkar  23      rampur\n",
       "second  sairaj  25      nagpur\n",
       "third    rohan  25  jamshedpur"
      ]
     },
     "execution_count": 95,
     "metadata": {},
     "output_type": "execute_result"
    }
   ],
   "source": [
    "df.info()\n",
    "df\n"
   ]
  },
  {
   "cell_type": "code",
   "execution_count": 98,
   "id": "359d1933",
   "metadata": {},
   "outputs": [
    {
     "data": {
      "text/plain": [
       "omkar     1\n",
       "sairaj    1\n",
       "rohan     1\n",
       "Name: c, dtype: int64"
      ]
     },
     "execution_count": 98,
     "metadata": {},
     "output_type": "execute_result"
    }
   ],
   "source": [
    "df['c'].value_counts()\n",
    "df['c'].value_counts(dropna=True)  #dill not give cnt for val with nan val"
   ]
  },
  {
   "cell_type": "code",
   "execution_count": 99,
   "id": "769afb86",
   "metadata": {},
   "outputs": [
    {
     "data": {
      "text/html": [
       "<div>\n",
       "<style scoped>\n",
       "    .dataframe tbody tr th:only-of-type {\n",
       "        vertical-align: middle;\n",
       "    }\n",
       "\n",
       "    .dataframe tbody tr th {\n",
       "        vertical-align: top;\n",
       "    }\n",
       "\n",
       "    .dataframe thead th {\n",
       "        text-align: right;\n",
       "    }\n",
       "</style>\n",
       "<table border=\"1\" class=\"dataframe\">\n",
       "  <thead>\n",
       "    <tr style=\"text-align: right;\">\n",
       "      <th></th>\n",
       "      <th>c</th>\n",
       "      <th>y</th>\n",
       "      <th>z*</th>\n",
       "    </tr>\n",
       "  </thead>\n",
       "  <tbody>\n",
       "    <tr>\n",
       "      <th>first</th>\n",
       "      <td>False</td>\n",
       "      <td>False</td>\n",
       "      <td>False</td>\n",
       "    </tr>\n",
       "    <tr>\n",
       "      <th>second</th>\n",
       "      <td>False</td>\n",
       "      <td>False</td>\n",
       "      <td>False</td>\n",
       "    </tr>\n",
       "    <tr>\n",
       "      <th>third</th>\n",
       "      <td>False</td>\n",
       "      <td>False</td>\n",
       "      <td>False</td>\n",
       "    </tr>\n",
       "  </tbody>\n",
       "</table>\n",
       "</div>"
      ],
      "text/plain": [
       "            c      y     z*\n",
       "first   False  False  False\n",
       "second  False  False  False\n",
       "third   False  False  False"
      ]
     },
     "execution_count": 99,
     "metadata": {},
     "output_type": "execute_result"
    }
   ],
   "source": [
    "#null val non-null value\n",
    "df.isnull()"
   ]
  },
  {
   "cell_type": "markdown",
   "id": "d5f373db",
   "metadata": {},
   "source": [
    "# read excel"
   ]
  },
  {
   "cell_type": "code",
   "execution_count": 100,
   "id": "b64a1b8e",
   "metadata": {},
   "outputs": [
    {
     "ename": "AttributeError",
     "evalue": "'DataFrame' object has no attribute 'read_excel'",
     "output_type": "error",
     "traceback": [
      "\u001b[1;31m-----------------------------------------------------\u001b[0m",
      "\u001b[1;31mAttributeError\u001b[0m      Traceback (most recent call last)",
      "Input \u001b[1;32mIn [100]\u001b[0m, in \u001b[0;36m<cell line: 1>\u001b[1;34m()\u001b[0m\n\u001b[1;32m----> 1\u001b[0m data\u001b[38;5;241m=\u001b[39m\u001b[43mdf\u001b[49m\u001b[38;5;241;43m.\u001b[39;49m\u001b[43mread_excel\u001b[49m(\u001b[38;5;124m'\u001b[39m\u001b[38;5;124mdata.xlsx\u001b[39m\u001b[38;5;124m'\u001b[39m)   \u001b[38;5;66;03m#pip install xlrd for sheet 1\u001b[39;00m\n\u001b[0;32m      2\u001b[0m data\u001b[38;5;241m=\u001b[39mdf\u001b[38;5;241m.\u001b[39mread_excel(\u001b[38;5;124m'\u001b[39m\u001b[38;5;124mdata.xlsx\u001b[39m\u001b[38;5;124m'\u001b[39m,sheet_name\u001b[38;5;241m=\u001b[39m\u001b[38;5;124m'\u001b[39m\u001b[38;5;124m<sheetname>\u001b[39m\u001b[38;5;124m'\u001b[39m)\n",
      "File \u001b[1;32m~\\AppData\\Local\\Programs\\Python\\Python310\\lib\\site-packages\\pandas\\core\\generic.py:5487\u001b[0m, in \u001b[0;36mNDFrame.__getattr__\u001b[1;34m(self, name)\u001b[0m\n\u001b[0;32m   5480\u001b[0m \u001b[38;5;28;01mif\u001b[39;00m (\n\u001b[0;32m   5481\u001b[0m     name \u001b[38;5;129;01mnot\u001b[39;00m \u001b[38;5;129;01min\u001b[39;00m \u001b[38;5;28mself\u001b[39m\u001b[38;5;241m.\u001b[39m_internal_names_set\n\u001b[0;32m   5482\u001b[0m     \u001b[38;5;129;01mand\u001b[39;00m name \u001b[38;5;129;01mnot\u001b[39;00m \u001b[38;5;129;01min\u001b[39;00m \u001b[38;5;28mself\u001b[39m\u001b[38;5;241m.\u001b[39m_metadata\n\u001b[0;32m   5483\u001b[0m     \u001b[38;5;129;01mand\u001b[39;00m name \u001b[38;5;129;01mnot\u001b[39;00m \u001b[38;5;129;01min\u001b[39;00m \u001b[38;5;28mself\u001b[39m\u001b[38;5;241m.\u001b[39m_accessors\n\u001b[0;32m   5484\u001b[0m     \u001b[38;5;129;01mand\u001b[39;00m \u001b[38;5;28mself\u001b[39m\u001b[38;5;241m.\u001b[39m_info_axis\u001b[38;5;241m.\u001b[39m_can_hold_identifiers_and_holds_name(name)\n\u001b[0;32m   5485\u001b[0m ):\n\u001b[0;32m   5486\u001b[0m     \u001b[38;5;28;01mreturn\u001b[39;00m \u001b[38;5;28mself\u001b[39m[name]\n\u001b[1;32m-> 5487\u001b[0m \u001b[38;5;28;01mreturn\u001b[39;00m \u001b[38;5;28;43mobject\u001b[39;49m\u001b[38;5;241;43m.\u001b[39;49m\u001b[38;5;21;43m__getattribute__\u001b[39;49m\u001b[43m(\u001b[49m\u001b[38;5;28;43mself\u001b[39;49m\u001b[43m,\u001b[49m\u001b[43m \u001b[49m\u001b[43mname\u001b[49m\u001b[43m)\u001b[49m\n",
      "\u001b[1;31mAttributeError\u001b[0m: 'DataFrame' object has no attribute 'read_excel'"
     ]
    }
   ],
   "source": [
    "data=df.read_excel('data.xlsx')   #pip install xlrd for sheet 1\n",
    "data=df.read_excel('data.xlsx',sheet_name='<sheetname>')"
   ]
  },
  {
   "cell_type": "code",
   "execution_count": null,
   "id": "d0830393",
   "metadata": {},
   "outputs": [],
   "source": [
    "#export to excel\n",
    "data.to_excel('data.xlsx') #pip install openpyxl\n"
   ]
  }
 ],
 "metadata": {
  "kernelspec": {
   "display_name": "Python 3 (ipykernel)",
   "language": "python",
   "name": "python3"
  },
  "language_info": {
   "codemirror_mode": {
    "name": "ipython",
    "version": 3
   },
   "file_extension": ".py",
   "mimetype": "text/x-python",
   "name": "python",
   "nbconvert_exporter": "python",
   "pygments_lexer": "ipython3",
   "version": "3.10.8"
  },
  "vscode": {
   "interpreter": {
    "hash": "f6246b25e200e4c5124e3e61789ac81350562f0761bbcf92ad9e48654207659c"
   }
  }
 },
 "nbformat": 4,
 "nbformat_minor": 5
}
